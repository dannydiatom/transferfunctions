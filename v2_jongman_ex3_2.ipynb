{
 "cells": [
  {
   "cell_type": "code",
   "execution_count": 150,
   "metadata": {},
   "outputs": [],
   "source": [
    "import statsmodels.api as sm\n",
    "import statsmodels.formula.api as smf\n",
    "import pandas as pd\n",
    "import numpy as np\n",
    "import matplotlib.pyplot as plt\n",
    "import seaborn as sns\n",
    "from scipy import stats\n",
    "\n",
    "sns.set()"
   ]
  },
  {
   "cell_type": "code",
   "execution_count": 75,
   "metadata": {},
   "outputs": [
    {
     "data": {
      "text/html": [
       "<div>\n",
       "<style scoped>\n",
       "    .dataframe tbody tr th:only-of-type {\n",
       "        vertical-align: middle;\n",
       "    }\n",
       "\n",
       "    .dataframe tbody tr th {\n",
       "        vertical-align: top;\n",
       "    }\n",
       "\n",
       "    .dataframe thead th {\n",
       "        text-align: right;\n",
       "    }\n",
       "</style>\n",
       "<table border=\"1\" class=\"dataframe\">\n",
       "  <thead>\n",
       "    <tr style=\"text-align: right;\">\n",
       "      <th></th>\n",
       "      <th>abundance</th>\n",
       "      <th>temp</th>\n",
       "      <th>log_abund</th>\n",
       "    </tr>\n",
       "    <tr>\n",
       "      <th>site</th>\n",
       "      <th></th>\n",
       "      <th></th>\n",
       "      <th></th>\n",
       "    </tr>\n",
       "  </thead>\n",
       "  <tbody>\n",
       "    <tr>\n",
       "      <th>1</th>\n",
       "      <td>12</td>\n",
       "      <td>0.8</td>\n",
       "      <td>2.484907</td>\n",
       "    </tr>\n",
       "    <tr>\n",
       "      <th>2</th>\n",
       "      <td>14</td>\n",
       "      <td>1.1</td>\n",
       "      <td>2.639057</td>\n",
       "    </tr>\n",
       "    <tr>\n",
       "      <th>3</th>\n",
       "      <td>13</td>\n",
       "      <td>1.6</td>\n",
       "      <td>2.564949</td>\n",
       "    </tr>\n",
       "    <tr>\n",
       "      <th>4</th>\n",
       "      <td>22</td>\n",
       "      <td>1.8</td>\n",
       "      <td>3.091042</td>\n",
       "    </tr>\n",
       "    <tr>\n",
       "      <th>5</th>\n",
       "      <td>18</td>\n",
       "      <td>1.7</td>\n",
       "      <td>2.890372</td>\n",
       "    </tr>\n",
       "  </tbody>\n",
       "</table>\n",
       "</div>"
      ],
      "text/plain": [
       "      abundance  temp  log_abund\n",
       "site                            \n",
       "1            12   0.8   2.484907\n",
       "2            14   1.1   2.639057\n",
       "3            13   1.6   2.564949\n",
       "4            22   1.8   3.091042\n",
       "5            18   1.7   2.890372"
      ]
     },
     "execution_count": 75,
     "metadata": {},
     "output_type": "execute_result"
    }
   ],
   "source": [
    "spe_df = pd.read_csv('/home/bsherrod/py/diatoms/spongotrocus_glacialis.csv', sep=',', index_col='site')\n",
    "spe_df['log_abund'] = spe_df['abundance'].apply(np.log)\n",
    "spe_df.head()"
   ]
  },
  {
   "cell_type": "code",
   "execution_count": 25,
   "metadata": {},
   "outputs": [],
   "source": [
    "# let's first fit 2nd order polynomial with OLS with intercept\n",
    "#olsres2 = sm.ols(formula = 'y ~ x + I(x**2)', data = data).fit() EXAMPLE\n",
    "mod = smf.ols(formula = 'log_abund ~ temp + I(temp**2)', data = spe_df).fit()"
   ]
  },
  {
   "cell_type": "code",
   "execution_count": 26,
   "metadata": {},
   "outputs": [
    {
     "name": "stdout",
     "output_type": "stream",
     "text": [
      "                            OLS Regression Results                            \n",
      "==============================================================================\n",
      "Dep. Variable:              log_abund   R-squared:                       0.755\n",
      "Model:                            OLS   Adj. R-squared:                  0.739\n",
      "Method:                 Least Squares   F-statistic:                     47.68\n",
      "Date:                Mon, 08 Oct 2018   Prob (F-statistic):           3.48e-10\n",
      "Time:                        11:58:12   Log-Likelihood:                -7.3223\n",
      "No. Observations:                  34   AIC:                             20.64\n",
      "Df Residuals:                      31   BIC:                             25.22\n",
      "Df Model:                           2                                         \n",
      "Covariance Type:            nonrobust                                         \n",
      "================================================================================\n",
      "                   coef    std err          t      P>|t|      [0.025      0.975]\n",
      "--------------------------------------------------------------------------------\n",
      "Intercept        2.1192      0.133     15.950      0.000       1.848       2.390\n",
      "temp             0.2497      0.036      7.010      0.000       0.177       0.322\n",
      "I(temp ** 2)    -0.0089      0.002     -5.461      0.000      -0.012      -0.006\n",
      "==============================================================================\n",
      "Omnibus:                        2.714   Durbin-Watson:                   0.914\n",
      "Prob(Omnibus):                  0.257   Jarque-Bera (JB):                2.176\n",
      "Skew:                          -0.617   Prob(JB):                        0.337\n",
      "Kurtosis:                       2.885   Cond. No.                         564.\n",
      "==============================================================================\n",
      "\n",
      "Warnings:\n",
      "[1] Standard Errors assume that the covariance matrix of the errors is correctly specified.\n"
     ]
    }
   ],
   "source": [
    "print(mod.summary())"
   ]
  },
  {
   "cell_type": "code",
   "execution_count": 30,
   "metadata": {},
   "outputs": [],
   "source": [
    "# predicted values of log_abund using 2nd order polynomial model results\n",
    "pred2 = mod.predict(spe_df) # predict with the fitted model"
   ]
  },
  {
   "cell_type": "code",
   "execution_count": 47,
   "metadata": {},
   "outputs": [
    {
     "data": {
      "text/plain": [
       "(0, 6)"
      ]
     },
     "execution_count": 47,
     "metadata": {},
     "output_type": "execute_result"
    },
    {
     "data": {
      "image/png": "[encoded data removed]",
      "text/plain": [
       "<Figure size 432x288 with 1 Axes>"
      ]
     },
     "metadata": {},
     "output_type": "display_data"
    }
   ],
   "source": [
    "plt.scatter(spe_df['temp'],spe_df['log_abund'])\n",
    "plt.plot(spe_df['temp'],pred2[0:], 'orange')\n",
    "plt.ylim(0, 6)"
   ]
  },
  {
   "cell_type": "code",
   "execution_count": 68,
   "metadata": {},
   "outputs": [
    {
     "data": {
      "text/plain": [
       "(13.97367388146532, 7.4803045040825022, 3.8639867296540094)"
      ]
     },
     "execution_count": 68,
     "metadata": {},
     "output_type": "execute_result"
    }
   ],
   "source": [
    "#calculate the optimum, tolernace, and maximum from the OLS results\n",
    "\n",
    "# regression coefficients from regression results\n",
    "#mod.params[0] = b0\n",
    "#mod.params[1] = b1\n",
    "#mod.params[2] = b2\n",
    "\n",
    "optimum = -mod.params[1] / (2*mod.params[2])\n",
    "tolerance = 1 / np.sqrt(-2 * mod.params[2])\n",
    "maximum = mod.params[0] + (mod.params[1] * optimum) + (mod.params[2] * (optimum**2))\n",
    "optimum, tolerance, maximum"
   ]
  },
  {
   "cell_type": "code",
   "execution_count": 144,
   "metadata": {},
   "outputs": [
    {
     "data": {
      "text/html": [
       "<div>\n",
       "<style scoped>\n",
       "    .dataframe tbody tr th:only-of-type {\n",
       "        vertical-align: middle;\n",
       "    }\n",
       "\n",
       "    .dataframe tbody tr th {\n",
       "        vertical-align: top;\n",
       "    }\n",
       "\n",
       "    .dataframe thead th {\n",
       "        text-align: right;\n",
       "    }\n",
       "</style>\n",
       "<table border=\"1\" class=\"dataframe\">\n",
       "  <thead>\n",
       "    <tr style=\"text-align: right;\">\n",
       "      <th></th>\n",
       "      <th>Intercept</th>\n",
       "      <th>temp</th>\n",
       "      <th>I(temp ** 2)</th>\n",
       "    </tr>\n",
       "  </thead>\n",
       "  <tbody>\n",
       "    <tr>\n",
       "      <th>Intercept</th>\n",
       "      <td>0.178694</td>\n",
       "      <td>-0.039551</td>\n",
       "      <td>0.001600</td>\n",
       "    </tr>\n",
       "    <tr>\n",
       "      <th>temp</th>\n",
       "      <td>-0.039551</td>\n",
       "      <td>0.012847</td>\n",
       "      <td>-0.000577</td>\n",
       "    </tr>\n",
       "    <tr>\n",
       "      <th>I(temp ** 2)</th>\n",
       "      <td>0.001600</td>\n",
       "      <td>-0.000577</td>\n",
       "      <td>0.000027</td>\n",
       "    </tr>\n",
       "  </tbody>\n",
       "</table>\n",
       "</div>"
      ],
      "text/plain": [
       "              Intercept      temp  I(temp ** 2)\n",
       "Intercept      0.178694 -0.039551      0.001600\n",
       "temp          -0.039551  0.012847     -0.000577\n",
       "I(temp ** 2)   0.001600 -0.000577      0.000027"
      ]
     },
     "execution_count": 144,
     "metadata": {},
     "output_type": "execute_result"
    }
   ],
   "source": [
    "# variance estimates from regression\n",
    "mod.normalized_cov_params"
   ]
  },
  {
   "cell_type": "code",
   "execution_count": 159,
   "metadata": {},
   "outputs": [],
   "source": [
    "# calculate 95% CI for optimum\n",
    "\n",
    "# get t statistic for n-3 df \n",
    "t_inf = stats.t.ppf(1-0.025, (len(spe_df.index) - 3))\n",
    "\n",
    "v11 = mod.normalized_cov_params.iloc[0][0] # variance of b1\n",
    "v22 = mod.normalized_cov_params.iloc[1][1] # variance of b2\n",
    "v12 = mod.normalized_cov_params.iloc[2][1] # covariance between b1 and b2\n",
    "\n",
    "\n",
    "\n"
   ]
  },
  {
   "cell_type": "code",
   "execution_count": 116,
   "metadata": {},
   "outputs": [
    {
     "data": {
      "text/html": [
       "<div>\n",
       "<style scoped>\n",
       "    .dataframe tbody tr th:only-of-type {\n",
       "        vertical-align: middle;\n",
       "    }\n",
       "\n",
       "    .dataframe tbody tr th {\n",
       "        vertical-align: top;\n",
       "    }\n",
       "\n",
       "    .dataframe thead th {\n",
       "        text-align: right;\n",
       "    }\n",
       "</style>\n",
       "<table border=\"1\" class=\"dataframe\">\n",
       "  <thead>\n",
       "    <tr style=\"text-align: right;\">\n",
       "      <th></th>\n",
       "      <th>abundance</th>\n",
       "      <th>temp</th>\n",
       "      <th>log_abund</th>\n",
       "      <th>abXtemp</th>\n",
       "      <th>log_abXtemp</th>\n",
       "    </tr>\n",
       "    <tr>\n",
       "      <th>site</th>\n",
       "      <th></th>\n",
       "      <th></th>\n",
       "      <th></th>\n",
       "      <th></th>\n",
       "      <th></th>\n",
       "    </tr>\n",
       "  </thead>\n",
       "  <tbody>\n",
       "    <tr>\n",
       "      <th>1</th>\n",
       "      <td>12</td>\n",
       "      <td>0.8</td>\n",
       "      <td>2.484907</td>\n",
       "      <td>9.6</td>\n",
       "      <td>1.987925</td>\n",
       "    </tr>\n",
       "    <tr>\n",
       "      <th>2</th>\n",
       "      <td>14</td>\n",
       "      <td>1.1</td>\n",
       "      <td>2.639057</td>\n",
       "      <td>15.4</td>\n",
       "      <td>2.902963</td>\n",
       "    </tr>\n",
       "    <tr>\n",
       "      <th>3</th>\n",
       "      <td>13</td>\n",
       "      <td>1.6</td>\n",
       "      <td>2.564949</td>\n",
       "      <td>20.8</td>\n",
       "      <td>4.103919</td>\n",
       "    </tr>\n",
       "    <tr>\n",
       "      <th>4</th>\n",
       "      <td>22</td>\n",
       "      <td>1.8</td>\n",
       "      <td>3.091042</td>\n",
       "      <td>39.6</td>\n",
       "      <td>5.563876</td>\n",
       "    </tr>\n",
       "    <tr>\n",
       "      <th>5</th>\n",
       "      <td>18</td>\n",
       "      <td>1.7</td>\n",
       "      <td>2.890372</td>\n",
       "      <td>30.6</td>\n",
       "      <td>4.913632</td>\n",
       "    </tr>\n",
       "  </tbody>\n",
       "</table>\n",
       "</div>"
      ],
      "text/plain": [
       "      abundance  temp  log_abund  abXtemp  log_abXtemp\n",
       "site                                                  \n",
       "1            12   0.8   2.484907      9.6     1.987925\n",
       "2            14   1.1   2.639057     15.4     2.902963\n",
       "3            13   1.6   2.564949     20.8     4.103919\n",
       "4            22   1.8   3.091042     39.6     5.563876\n",
       "5            18   1.7   2.890372     30.6     4.913632"
      ]
     },
     "execution_count": 116,
     "metadata": {},
     "output_type": "execute_result"
    }
   ],
   "source": [
    "# calculate weighted average\n",
    "spe_df['abXtemp'] = spe_df['abundance'] * spe_df['temp']\n",
    "spe_df['log_abXtemp'] = spe_df['log_abund'] * spe_df['temp']\n",
    "spe_df.head()"
   ]
  },
  {
   "cell_type": "code",
   "execution_count": 90,
   "metadata": {},
   "outputs": [
    {
     "data": {
      "text/plain": [
       "(12.65739299610895, 11.030918658822136)"
      ]
     },
     "execution_count": 90,
     "metadata": {},
     "output_type": "execute_result"
    }
   ],
   "source": [
    "WA = spe_df['abXtemp'].sum() / spe_df['abundance'].sum()\n",
    "WA_log = spe_df['log_abXtemp'].sum() / spe_df['log_abund'].sum()\n",
    "WA, WA_log\n"
   ]
  },
  {
   "cell_type": "code",
   "execution_count": 109,
   "metadata": {},
   "outputs": [
    {
     "data": {
      "text/plain": [
       "<matplotlib.collections.LineCollection at 0x7fc84e604860>"
      ]
     },
     "execution_count": 109,
     "metadata": {},
     "output_type": "execute_result"
    },
    {
     "data": {
      "image/png": "[encoded data removed]",
      "text/plain": [
       "<Figure size 432x288 with 1 Axes>"
      ]
     },
     "metadata": {},
     "output_type": "display_data"
    }
   ],
   "source": [
    "plt.scatter(spe_df['temp'],spe_df['abundance'])\n",
    "plt.plot(spe_df['temp'],np.exp(pred2[0:]), 'orange')\n",
    "plt.vlines(optimum, 0, np.exp(maximum), 'red', linestyles='dashed', linewidth = 1)\n",
    "plt.vlines(WA, 0, 20, 'green', linestyles='dashed', linewidth = 1)\n",
    "plt.vlines(WA_log, 0, 20, 'blue', linestyles='dashed', linewidth = 1)\n"
   ]
  },
  {
   "cell_type": "code",
   "execution_count": null,
   "metadata": {},
   "outputs": [],
   "source": []
  }
 ],
 "metadata": {
  "kernelspec": {
   "display_name": "Python 3",
   "language": "python",
   "name": "python3"
  },
  "language_info": {
   "codemirror_mode": {
    "name": "ipython",
    "version": 3
   },
   "file_extension": ".py",
   "mimetype": "text/x-python",
   "name": "python",
   "nbconvert_exporter": "python",
   "pygments_lexer": "ipython3",
   "version": "3.6.5"
  }
 },
 "nbformat": 4,
 "nbformat_minor": 2
}
