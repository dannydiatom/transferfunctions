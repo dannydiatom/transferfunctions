{
 "cells": [
  {
   "cell_type": "code",
   "execution_count": 2,
   "metadata": {},
   "outputs": [
    {
     "name": "stdout",
     "output_type": "stream",
     "text": [
      "110 samples with species\n",
      "110 samples with environmental data\n",
      "0      0.2033\n",
      "1      0.2666\n",
      "2      0.3482\n",
      "3      0.2459\n",
      "4      0.1907\n",
      "5      0.4060\n",
      "6      0.1293\n",
      "7      0.2047\n",
      "8      0.3074\n",
      "9      0.1103\n",
      "10     0.2169\n",
      "11     0.6469\n",
      "12     0.4048\n",
      "13     0.2903\n",
      "14     0.5342\n",
      "15     0.4356\n",
      "16     0.5568\n",
      "17     0.4108\n",
      "18     0.3512\n",
      "19     0.6834\n",
      "20     0.7009\n",
      "21     0.4328\n",
      "22     0.3934\n",
      "23     0.1612\n",
      "24     0.2216\n",
      "25     0.2000\n",
      "26     0.4141\n",
      "27     0.1734\n",
      "28     0.2869\n",
      "29     0.3179\n",
      "        ...  \n",
      "80     0.1133\n",
      "81     0.0901\n",
      "82     0.1016\n",
      "83     0.1622\n",
      "84     0.1395\n",
      "85     0.2872\n",
      "86     0.1834\n",
      "87     0.2572\n",
      "88     0.2698\n",
      "89     0.0123\n",
      "90     0.0481\n",
      "91     0.0663\n",
      "92     0.1245\n",
      "93     0.0230\n",
      "94     0.1375\n",
      "95     0.0845\n",
      "96     0.1020\n",
      "97     0.2559\n",
      "98     0.2367\n",
      "99     0.3080\n",
      "100    0.4753\n",
      "101    0.0659\n",
      "102    0.1423\n",
      "103    0.4577\n",
      "104    0.5454\n",
      "105    0.5142\n",
      "106    0.3003\n",
      "107    0.4341\n",
      "108    0.7309\n",
      "109    0.6892\n",
      "Length: 110, dtype: float64\n"
     ]
    },
    {
     "data": {
      "image/png": "[encoded data removed]",
      "text/plain": [
       "<Figure size 432x288 with 1 Axes>"
      ]
     },
     "metadata": {},
     "output_type": "display_data"
    }
   ],
   "source": [
    "%run -i test_v1.py species_data.csv diatom_env.csv"
   ]
  },
  {
   "cell_type": "code",
   "execution_count": null,
   "metadata": {},
   "outputs": [],
   "source": []
  }
 ],
 "metadata": {
  "kernelspec": {
   "display_name": "Python 3",
   "language": "python",
   "name": "python3"
  },
  "language_info": {
   "codemirror_mode": {
    "name": "ipython",
    "version": 3
   },
   "file_extension": ".py",
   "mimetype": "text/x-python",
   "name": "python",
   "nbconvert_exporter": "python",
   "pygments_lexer": "ipython3",
   "version": "3.6.5"
  }
 },
 "nbformat": 4,
 "nbformat_minor": 2
}
